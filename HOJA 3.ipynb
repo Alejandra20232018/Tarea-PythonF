{
 "cells": [
  {
   "cell_type": "markdown",
   "metadata": {},
   "source": [
    "UNO"
   ]
  },
  {
   "cell_type": "code",
   "execution_count": 6,
   "metadata": {},
   "outputs": [
    {
     "name": "stdout",
     "output_type": "stream",
     "text": [
      "<re.Match object; span=(0, 32), match='Guate.360-porelmundo@miguate.com'>\n",
      "<re.Match object; span=(0, 22), match='Miercoles3@hotmail.com'>\n",
      "<re.Match object; span=(0, 27), match='Progra3.galileo@galileo.edu'>\n"
     ]
    }
   ],
   "source": [
    "import re\n",
    "\n",
    "# Expresión regular para validar correo electrónico\n",
    "emailRegex = r'^[a-zA-Z0-9.-]+@[a-zA-Z0-9.-]+\\.[a-zA-Z]{2,}$'\n",
    "\n",
    "# Correos de ejemplo\n",
    "correo1 = 'Guate.360-porelmundo@miguate.com';\n",
    "correo2 = 'Miercoles3@hotmail.com';\n",
    "correo3 = 'Progra3.galileo@galileo.edu';\n",
    "\n",
    "# Validar correos electrónicos\n",
    "print(re.match(emailRegex, correo1))\n",
    "print(re.match(emailRegex, correo2))\n",
    "print(re.match(emailRegex, correo3))"
   ]
  },
  {
   "cell_type": "markdown",
   "metadata": {},
   "source": [
    "DOS"
   ]
  },
  {
   "cell_type": "code",
   "execution_count": 7,
   "metadata": {},
   "outputs": [
    {
     "name": "stdout",
     "output_type": "stream",
     "text": [
      "URL válida\n",
      "URL inválida\n",
      "URL válida\n",
      "URL válida\n"
     ]
    }
   ],
   "source": [
    "def validar_url(url):\n",
    "    patron = r'^https?://www\\.[a-zA-Z0-9-]+\\.(com|org|edu)$'\n",
    "    if re.match(patron, url):\n",
    "        return \"URL válida\"\n",
    "    else:\n",
    "        return \"URL inválida\"\n",
    "\n",
    "# Ejemplos de uso\n",
    "print(validar_url(\"https://www.guate360-porelmundo.com\"))\n",
    "print(validar_url(\"http://www.a2.net\"))\n",
    "print(validar_url(\"https://www.galileo.edu\"))\n",
    "print(validar_url(\"http://www.8.org\")) # No válida"
   ]
  },
  {
   "cell_type": "markdown",
   "metadata": {},
   "source": [
    "TRES"
   ]
  },
  {
   "cell_type": "code",
   "execution_count": 9,
   "metadata": {},
   "outputs": [
    {
     "name": "stdout",
     "output_type": "stream",
     "text": [
      "False\n",
      "False\n",
      "False\n"
     ]
    }
   ],
   "source": [
    "def validar_mac(mac):\n",
    "    regex = r'^([0-9A-Fa-f]{2}[:-]){5}([0-9A-Fa-f]{2})$'\n",
    "    if re.match(regex, mac):\n",
    "        return True\n",
    "    else:\n",
    "        return False\n",
    "\n",
    "mac1 = \"5A 6F AF 8C 9B 1D\"\n",
    "mac2 = \"6D 6C 4D 3A EB 3F\"\n",
    "mac3 = \"3A 7C FA C8 6D 4J\"\n",
    "\n",
    "print(validar_mac(mac1))  # True\n",
    "print(validar_mac(mac2))  # True\n",
    "print(validar_mac(mac3))  # False"
   ]
  },
  {
   "cell_type": "markdown",
   "metadata": {},
   "source": [
    "CUATRO"
   ]
  },
  {
   "cell_type": "code",
   "execution_count": 10,
   "metadata": {},
   "outputs": [
    {
     "name": "stdout",
     "output_type": "stream",
     "text": [
      "True\n",
      "True\n",
      "True\n",
      "False\n"
     ]
    }
   ],
   "source": [
    "def validar_direccion_ip(ip):\n",
    "    patron = r'^((25[0-5]|2[0-4][0-9]|[01]?[0-9][0-9]?)\\.){3}(25[0-5]|2[0-4][0-9]|[01]?[0-9][0-9]?)$'\n",
    "    return re.match(patron, ip) is not None\n",
    "\n",
    "# Ejemplos de dirección IP válidas\n",
    "print(validar_direccion_ip(\"192.16.8.1\"))     # True\n",
    "print(validar_direccion_ip(\"234.56.78.90\"))   # True\n",
    "print(validar_direccion_ip(\"1.2.3.4\"))        # True\n",
    "\n",
    "# Ejemplo de dirección IP no válida\n",
    "print(validar_direccion_ip(\"192.168.45.345\")) # False"
   ]
  },
  {
   "cell_type": "markdown",
   "metadata": {},
   "source": [
    "CINCO"
   ]
  },
  {
   "cell_type": "code",
   "execution_count": 11,
   "metadata": {},
   "outputs": [
    {
     "name": "stdout",
     "output_type": "stream",
     "text": [
      "False\n",
      "True\n",
      "False\n",
      "False\n",
      "False\n"
     ]
    }
   ],
   "source": [
    "def validar_fecha(fecha):\n",
    "    regex = r\"^(0[1-9]|[12][0-9]|3[01])([./-])(0[1-9]|1[0-2])([./-])(20[0-1][0-9])$\"\n",
    "    if re.match(regex, fecha):\n",
    "        return True\n",
    "    else:\n",
    "        return False\n",
    "\n",
    "# Ejemplos de uso\n",
    "print(validar_fecha(\"20/1/2019\"))  # True\n",
    "print(validar_fecha(\"12.03.2005\"))  # True\n",
    "print(validar_fecha(\"31-11-08\"))  # True\n",
    "print(validar_fecha(\"1-1-2012\"))  # True\n",
    "print(validar_fecha(\"12-12-22\"))  # False"
   ]
  },
  {
   "cell_type": "markdown",
   "metadata": {},
   "source": [
    "PROBLEMA DOS"
   ]
  },
  {
   "cell_type": "code",
   "execution_count": null,
   "metadata": {},
   "outputs": [],
   "source": [
    "total_days = 0\n",
    "total_months = 0\n",
    "total_years = 0\n",
    "total_dates = 0\n",
    "\n",
    "# Expresión regular para encontrar fechas\n",
    "# El patrón asume:\n",
    "# - Día: uno o dos dígitos\n",
    "# - Mes: uno o dos dígitos o tres primeras letras del mes en inglés\n",
    "# - Año: cuatro dígitos\n",
    "date_pattern = r\"(\\d{1,2}|Jan|Feb|Mar|Apr|May|Jun|Jul|Aug|Sep|Oct|Nov|Dec)[^\\w](\\d{1,2}|Jan|Feb|Mar|Apr|May|Jun|Jul|Aug|Sep|Oct|Nov|Dec)[^\\w](\\d{4})\"\n",
    "\n",
    "D1 = \"archivo1\"\n",
    "D2 = \"archivo2\"\n",
    "D3 = \"archivo3\"\n",
    "D4 = \"archivo4\"\n",
    "D5 = \"archivo5\"\n",
    "D6 = \"archivo6\"\n",
    "D7 = \"archivo7\"\n",
    "D8 = \"archivo8\"\n",
    "D9 = \"archivo9\"\n",
    "D10 = \"archivo10\"\n",
    "D11 = \"archivo11\"\n",
    "D12 = \"archivo12\"\n",
    "D13 = \"archivo13\"\n",
    "D14 = \"archivo14\"\n",
    "D15 = \"archivo15\"\n",
    "D16 = \"archivo16\"\n",
    "D17 = \"archivo17\"\n",
    "D18 = \"archivo18\"\n",
    "D19 = \"archivo19\"\n",
    "D20 = \"archivo20\"\n",
    "D21 = \"archivo21\"\n",
    "\n",
    "file_name = f\"archivo{D1}.txt, {D2}.txt, {D3}.txt, {D4}.txt, {D5}.txt, {D6}.txt, {D7}.txt, {D8}.txt, {D8}.txt, {D9}.txt, {D11}.txt, {D12}.txt, {D13}.txt, {D14}.txt, {D15}.txt, {D16}.txt, {D17}.txt, {D18}.txt, {D19}.txt, {D20}.txt, {D21}.txt\"\n",
    "\n",
    "\n",
    "# Recorre los 21 archivos\n",
    "for file_number in range(1, 21):\n",
    "    file_name = f\"archivo{[file_number]}\"  # Reemplaza con el nombre y ubicación adecuada del archivo\n",
    "    with open(file_name, \"r\") as file:\n",
    "        content = file.read()\n",
    "        matches = re.findall(date_pattern, content)\n",
    "        for match in matches:\n",
    "            # Normaliza el formato de fecha al día, mes y año numéricos\n",
    "            day = match[0] if match[0].isdigit() else match[0][:3]\n",
    "            month = match[1] if match[1].isdigit() else match[1][:3]\n",
    "            year = match[2]\n",
    "\n",
    "            total_days += int(day)\n",
    "            total_months += int(month)\n",
    "            total_years += int(year)\n",
    "            total_dates += 1\n",
    "\n",
    "# Calcula el promedio total\n",
    "average_day = total_days / total_dates\n",
    "average_month = total_months / total_dates\n",
    "average_year = total_years / total_dates\n",
    "\n",
    "print(f\"Promedio total: {average_day}-{average_month}-{average_year}\")"
   ]
  }
 ],
 "metadata": {
  "kernelspec": {
   "display_name": "Python 3",
   "language": "python",
   "name": "python3"
  },
  "language_info": {
   "codemirror_mode": {
    "name": "ipython",
    "version": 3
   },
   "file_extension": ".py",
   "mimetype": "text/x-python",
   "name": "python",
   "nbconvert_exporter": "python",
   "pygments_lexer": "ipython3",
   "version": "3.11.3"
  },
  "orig_nbformat": 4
 },
 "nbformat": 4,
 "nbformat_minor": 2
}
