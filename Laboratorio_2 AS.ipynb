{
 "cells": [
  {
   "cell_type": "markdown",
   "metadata": {},
   "source": [
    "UNO"
   ]
  },
  {
   "cell_type": "code",
   "execution_count": 1,
   "metadata": {},
   "outputs": [],
   "source": [
    "import numpy as np\n",
    "import matplotlib.pyplot as plt\n",
    "import cv2\n",
    "from PIL import Image"
   ]
  },
  {
   "cell_type": "code",
   "execution_count": 28,
   "metadata": {},
   "outputs": [],
   "source": [
    "imagen = Image.open(r\"C:\\Users\\50233\\OneDrive - Universidad Galileo\\Escritorio\\BECA 2022\\CURSOS 2023\\3ER. TRIMESTRE\\TEXT MINING\\LABORATORIOS\\img.jpg\")\n",
    "imagen.show()"
   ]
  },
  {
   "cell_type": "code",
   "execution_count": 32,
   "metadata": {},
   "outputs": [
    {
     "data": {
      "image/png": "[encoded data removed]",
      "text/plain": [
       "<Figure size 640x480 with 1 Axes>"
      ]
     },
     "metadata": {},
     "output_type": "display_data"
    }
   ],
   "source": [
    "def mostrarimagenesgrises3d(imagenes):\n",
    "    fig = plt.figure()\n",
    "    for i in range(len(imagenes)):\n",
    "        ax = fig.add_subplot(1, len(imagenes), i+1)\n",
    "        ax.imshow(imagenes[i], cmap='gray')\n",
    "        ax.axis('off')\n",
    "    plt.show()\n",
    "\n",
    "imagen = [np.array([[10, 20, 30],\n",
    "                    [40, 50, 60],\n",
    "                    [70, 80, 90]])]\n",
    "\n",
    "mostrarimagenesgrises3d(imagen)\n"
   ]
  },
  {
   "cell_type": "markdown",
   "metadata": {},
   "source": [
    "DOS"
   ]
  },
  {
   "cell_type": "code",
   "execution_count": 33,
   "metadata": {},
   "outputs": [],
   "source": [
    "def negativa(image):\n",
    "    # Cambiar la imagen a escala de grises\n",
    "    gray_image = cv2.cvtColor(image, cv2.COLOR_BGR2GRAY)\n",
    "    # Obtener la imagen negativa\n",
    "    negative_image = 255 - gray_image\n",
    "    return negative_image"
   ]
  },
  {
   "cell_type": "code",
   "execution_count": 34,
   "metadata": {},
   "outputs": [],
   "source": [
    "def transformacion_lineal(image, slope, intercept):\n",
    "    # Aplicar la transformación lineal a la imagen\n",
    "    transformed_image = slope * image + intercept\n",
    "    # Limitar los valores de píxel a 0 y 255\n",
    "    transformed_image = np.clip(transformed_image, 0, 255)\n",
    "    # Convertir la imagen de nuevo a tipo de datos entero sin signo de 8 bits\n",
    "    transformed_image = transformed_image.astype(np.uint8)\n",
    "    return transformed_image"
   ]
  },
  {
   "cell_type": "code",
   "execution_count": 35,
   "metadata": {},
   "outputs": [],
   "source": [
    "def transformacion_logaritmica(image, c):\n",
    "    # Aplicar la transformación logarítmica a la imagen\n",
    "    transformed_image = c * np.log(1 + image)\n",
    "    # Limitar los valores de píxel a 0 y 255\n",
    "    transformed_image = np.clip(transformed_image, 0, 255)\n",
    "    # Convertir la imagen de nuevo a tipo de datos entero sin signo de 8 bits\n",
    "    transformed_image = transformed_image.astype(np.uint8)\n",
    "    return transformed_image"
   ]
  },
  {
   "cell_type": "code",
   "execution_count": 36,
   "metadata": {},
   "outputs": [],
   "source": [
    "def transformacion_exponencial(image, c, gamma):\n",
    "    # Aplicar la transformación exponencial a la imagen\n",
    "    transformed_image = c * np.power(image, gamma)\n",
    "    # Limitar los valores de píxel a 0 y 255\n",
    "    transformed_image = np.clip(transformed_image, 0, 255)\n",
    "    # Convertir la imagen de nuevo a tipo de datos entero sin signo de 8 bits\n",
    "    transformed_image = transformed_image.astype(np.uint8)\n",
    "    return transformed_image"
   ]
  },
  {
   "cell_type": "markdown",
   "metadata": {},
   "source": [
    "TRES"
   ]
  },
  {
   "cell_type": "code",
   "execution_count": 52,
   "metadata": {},
   "outputs": [],
   "source": [
    "def operaciones_imagenes(img1, img2):\n",
    "    # Verificar si las imágenes tienen el mismo tamaño\n",
    "    if img1.shape != img2.shape:\n",
    "        print(\"Las imágenes no tienen el mismo tamaño\")\n",
    "        return\n",
    "\n",
    "    # Convertir las imágenes a escala de grises\n",
    "    imagen1_gray = cv2.cvtColor(img1, cv2.COLOR_BGR2GRAY)\n",
    "    imagen2_gray = cv2.cvtColor(img2, cv2.COLOR_BGR2GRAY)\n",
    "\n",
    "    # Binarizar las imágenes\n",
    "    _, imagen1_bin = cv2.threshold(imagen1_gray, 127, 255, cv2.THRESH_BINARY)\n",
    "    _, imagen2_bin = cv2.threshold(imagen2_gray, 127, 255, cv2.THRESH_BINARY)\n",
    "\n",
    "    # Suma de imágenes\n",
    "    suma_imagenes = cv2.add(imagen1_gray, imagen2_gray)\n",
    "\n",
    "    # Resta de imágenes\n",
    "    resta_imagenes = cv2.subtract(imagen1_gray, imagen2_gray)\n",
    "\n",
    "    # Operación lógica AND\n",
    "    and_imagenes = cv2.bitwise_and(imagen1_bin, imagen2_bin)\n",
    "\n",
    "    # Operación lógica OR\n",
    "    or_imagenes = cv2.bitwise_or(imagen1_bin, imagen2_bin)\n",
    "\n",
    "    # Operación lógica XOR\n",
    "    xor_imagenes = cv2.bitwise_xor(imagen1_bin, imagen2_bin)\n",
    "\n",
    "    # Mostrar las imágenes resultantes\n",
    "    cv2.imshow(\"Suma\", suma_imagenes)\n",
    "    cv2.imshow(\"Resta\", resta_imagenes)\n",
    "    cv2.imshow(\"AND\", and_imagenes)\n",
    "    cv2.imshow(\"OR\", or_imagenes)\n",
    "    cv2.imshow(\"XOR\", xor_imagenes)\n",
    "    cv2.waitKey(0)\n",
    "    cv2.destroyAllWindows()"
   ]
  },
  {
   "cell_type": "code",
   "execution_count": 56,
   "metadata": {},
   "outputs": [
    {
     "name": "stdout",
     "output_type": "stream",
     "text": [
      "Las imágenes no tienen el mismo tamaño\n"
     ]
    }
   ],
   "source": [
    "imagen1 = cv2.imread(\"img1.png\")\n",
    "imagen2 = cv2.imread(\"img2.png\")\n",
    "\n",
    "# Llamar a la función para realizar las operaciones\n",
    "operaciones_imagenes(imagen1, imagen2)"
   ]
  },
  {
   "cell_type": "markdown",
   "metadata": {},
   "source": [
    "CINCO"
   ]
  },
  {
   "cell_type": "code",
   "execution_count": null,
   "metadata": {},
   "outputs": [],
   "source": [
    "imagen = cv2.imread('img2.png')\n",
    "\n",
    "kernelgaussiano = np.array([[1, 2, 1], [2, 4, 2], [1, 2, 1]], dtype=np.float32) / 16\n",
    "imagen_filtrada_gaussiano = cv2.filter2D(imagen, -1, kernelgaussiano)\n",
    "\n",
    "kernelbox = np.ones((3, 3), dtype=np.float32) / 9\n",
    "imagen_filtrada_box = cv2.filter2D(imagen, -1, kernelbox)\n",
    "\n",
    "imagen_filtrada_median = cv2.medianBlur(imagen, 3)\n",
    "\n",
    "imagen_en_grises = cv2.cvtColor(imagen, cv2.COLOR_BGR2GRAY)\n",
    "gradientex = cv2.Sobel(imagen_en_grises, cv2.CV_64F, 1, 0, ksize=3)\n",
    "gradientey = cv2.Sobel(imagen_en_grises, cv2.CV_64F, 0, 1, ksize=3)\n",
    "imagen_filtrada_sobel = cv2.addWeighted(gradientex, 0.5, gradientey, 0.5, 0)\n",
    "\n",
    "kernellaplaciano = np.array([[0, 1, 0], [1, -4, 1], [0, 1, 0]], dtype=np.float32)\n",
    "imagen_filtrada_laplaciano = cv2.filter2D(imagen_en_grises, -1, kernellaplaciano)\n",
    "\n",
    "kernelrealce = np.array([[0, -1, 0], [-1, 5, -1], [0, -1, 0]], dtype=np.float32)\n",
    "imagen_filtrada_realce = cv2.filter2D(imagen, -1, kernelrealce)\n",
    "\n",
    "kernelembossing = np.array([[-2, -1, 0], [-1, 1, 1], [0, 1, 2]], dtype=np.float32)\n",
    "imagen_filtrada_embossing = cv2.filter2D(imagen, -1, kernelembossing)\n",
    "\n",
    "# Mostrar la imagen original y filtrada:\n",
    "cv2.imshow('Imagen Original', imagen)\n",
    "cv2.imshow('Imagen Filtrada Gaussiano', imagen_filtrada_gaussiano)\n",
    "cv2.imshow('Imagen Filtrada Box', imagen_filtrada_box)\n",
    "cv2.imshow('Imagen Filtrada Median', imagen_filtrada_median)\n",
    "cv2.imshow('Imagen Filtrada Sobel', imagen_filtrada_sobel)\n",
    "cv2.imshow('Imagen Filtrada Laplaciano', imagen_filtrada_laplaciano)\n",
    "cv2.imshow('Imagen Filtrada Realce', imagen_filtrada_realce)\n",
    "cv2.imshow('Imagen Filtrada Embossing', imagen_filtrada_embossing)\n",
    "cv2.waitKey(0)\n",
    "cv2.destroyAllWindows()"
   ]
  },
  {
   "cell_type": "markdown",
   "metadata": {},
   "source": [
    "CUATRO"
   ]
  },
  {
   "cell_type": "code",
   "execution_count": null,
   "metadata": {},
   "outputs": [],
   "source": [
    "imagen = cv2.imread(\"r\"C:\\Users\\50233\\OneDrive - Universidad Galileo\\Escritorio\\BECA 2022\\CURSOS 2023\\3ER. TRIMESTRE\\TEXT MINING\\LABORATORIOS\\img.jpg\"\", 0)\n",
    "canny = cv2.Canny(imagen, umbral_minimo, umbral_maximo)\n",
    "sobel_x = cv2.Sobel(imagen, cv2.CV_64F, 1, 0, ksize=tamaño_kernel)\n",
    "sobel_y = cv2.Sobel(imagen, cv2.CV_64F, 0, 1, ksize=tamaño_kernel)\n",
    "sobel = cv2.magnitude(sobel_x, sobel_y)\n",
    "laplacian = cv2.Laplacian(imagen, cv2.CV_64F)\n",
    "plt.subplot(2, 2, 1), plt.imshow(imagen, cmap='gray')\n",
    "plt.title('Original'), plt.xticks([]), plt.yticks([])\n",
    "plt.subplot(2, 2, 2), plt.imshow(canny, cmap='gray')\n",
    "plt.title('Canny'), plt.xticks([]), plt.yticks([])\n",
    "plt.subplot(2, 2, 3), plt.imshow(sobel, cmap='gray')\n",
    "plt.title('Sobel'), plt.xticks([]), plt.yticks([])\n",
    "plt.subplot(2, 2, 4), plt.imshow(laplacian, cmap='gray')\n",
    "plt.title('Laplaciano'), plt.xticks([]), plt.yticks([])\n",
    "\n",
    "plt.show()\n"
   ]
  }
 ],
 "metadata": {
  "kernelspec": {
   "display_name": "base",
   "language": "python",
   "name": "python3"
  },
  "language_info": {
   "codemirror_mode": {
    "name": "ipython",
    "version": 3
   },
   "file_extension": ".py",
   "mimetype": "text/x-python",
   "name": "python",
   "nbconvert_exporter": "python",
   "pygments_lexer": "ipython3",
   "version": "3.9.13"
  },
  "orig_nbformat": 4
 },
 "nbformat": 4,
 "nbformat_minor": 2
}
